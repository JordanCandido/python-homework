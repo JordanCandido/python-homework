{
 "cells": [
  {
   "cell_type": "code",
   "execution_count": 68,
   "id": "500cf18d-439a-40bb-8f41-4e2c5809c6a7",
   "metadata": {},
   "outputs": [],
   "source": [
    "import numpy as np\n",
    "import pandas as pd"
   ]
  },
  {
   "cell_type": "code",
   "execution_count": 69,
   "id": "4ad24451-a33b-48e0-99ff-a7de42e7783f",
   "metadata": {},
   "outputs": [
    {
     "name": "stdout",
     "output_type": "stream",
     "text": [
      "        Date  Profit/Losses\n",
      "0   Jan-2010         867884\n",
      "1   Feb-2010         984655\n",
      "2   Mar-2010         322013\n",
      "3   Apr-2010         -69417\n",
      "4   May-2010         310503\n",
      "..       ...            ...\n",
      "81  Oct-2016         102685\n",
      "82  Nov-2016         795914\n",
      "83  Dec-2016          60988\n",
      "84  Jan-2017         138230\n",
      "85  Feb-2017         671099\n",
      "\n",
      "[86 rows x 2 columns]\n"
     ]
    }
   ],
   "source": [
    "budget = pd.read_csv(r'02-Python_Unit 2 Homework_PyBank_Resources_budget_data.csv')\n",
    "print(budget)"
   ]
  },
  {
   "cell_type": "code",
   "execution_count": 70,
   "id": "f4358f14-7f58-4359-9f06-c0845e7a54c0",
   "metadata": {},
   "outputs": [
    {
     "name": "stdout",
     "output_type": "stream",
     "text": [
      "0     Jan-2010\n",
      "1     Feb-2010\n",
      "2     Mar-2010\n",
      "3     Apr-2010\n",
      "4     May-2010\n",
      "        ...   \n",
      "81    Oct-2016\n",
      "82    Nov-2016\n",
      "83    Dec-2016\n",
      "84    Jan-2017\n",
      "85    Feb-2017\n",
      "Name: Date, Length: 86, dtype: object\n"
     ]
    }
   ],
   "source": [
    "print(budget['Date'])"
   ]
  },
  {
   "cell_type": "code",
   "execution_count": 71,
   "id": "17d5e595-dec9-4e23-af33-e1fc39d7d244",
   "metadata": {},
   "outputs": [],
   "source": [
    "Total_months = len(budget['Date'])"
   ]
  },
  {
   "cell_type": "code",
   "execution_count": 72,
   "id": "ef3c8393-4578-4572-be74-362ee1637d49",
   "metadata": {},
   "outputs": [],
   "source": [
    "Total = sum(budget['Profit/Losses'])"
   ]
  },
  {
   "cell_type": "code",
   "execution_count": 73,
   "id": "1f17dbd9-43d3-4835-a860-4d888ff8c74d",
   "metadata": {},
   "outputs": [
    {
     "name": "stdout",
     "output_type": "stream",
     "text": [
      "        Date  Profit/Losses  Average_Change  difference\n",
      "0   Jan-2010         867884             NaN         NaN\n",
      "1   Feb-2010         984655        867884.0    116771.0\n",
      "2   Mar-2010         322013        984655.0   -662642.0\n",
      "3   Apr-2010         -69417        322013.0   -391430.0\n",
      "4   May-2010         310503        -69417.0    379920.0\n",
      "..       ...            ...             ...         ...\n",
      "81  Oct-2016         102685        768450.0   -665765.0\n",
      "82  Nov-2016         795914        102685.0    693229.0\n",
      "83  Dec-2016          60988        795914.0   -734926.0\n",
      "84  Jan-2017         138230         60988.0     77242.0\n",
      "85  Feb-2017         671099        138230.0    532869.0\n",
      "\n",
      "[86 rows x 4 columns]\n"
     ]
    }
   ],
   "source": [
    "budget['Average_Change'] = budget['Profit/Losses'].shift(1)\n",
    "budget['difference'] = budget['Profit/Losses'] - budget['Average_Change']\n",
    "\n",
    "print(budget)"
   ]
  },
  {
   "cell_type": "code",
   "execution_count": 74,
   "id": "c6c5977d-8301-4ba7-aca7-09fcf1f51ef3",
   "metadata": {},
   "outputs": [],
   "source": [
    "Average = round(budget['difference'].mean(),2)\n",
    "Max = round(budget['difference'].max(),2)\n",
    "Min = round(budget['difference'].min(),2)"
   ]
  },
  {
   "cell_type": "code",
   "execution_count": 75,
   "id": "e5b1d671-04cb-4a02-9651-4d79f139f0c4",
   "metadata": {},
   "outputs": [
    {
     "name": "stdout",
     "output_type": "stream",
     "text": [
      "Feb-2012\n",
      "Sep-2013\n"
     ]
    }
   ],
   "source": [
    "Max_Date = budget.loc[budget['difference'].idxmax(), 'Date']\n",
    "print(Max_Date)\n",
    "Min_Date = budget.loc[budget['difference'].idxmin(), 'Date']\n",
    "print(Min_Date)"
   ]
  },
  {
   "cell_type": "code",
   "execution_count": 76,
   "id": "59f8be75-8e89-45ff-8dcc-30bcc5d71541",
   "metadata": {},
   "outputs": [
    {
     "name": "stdout",
     "output_type": "stream",
     "text": [
      "Financial Analysis\n",
      "--------------------------------------------------------\n",
      "Total Months: 86\n",
      "Total: 38382578\n",
      "Average Change: -2315.12\n",
      "Greatest Increase in Profits: Feb-2012 1926159.0\n",
      "Greatest Decrease in Profits: Feb-2012 -2196167.0\n"
     ]
    }
   ],
   "source": [
    "print('Financial Analysis')\n",
    "print(\"--------------------------------------------------------\")\n",
    "print(f\"Total Months: {Total_months}\")\n",
    "print(f\"Total: {Total}\")\n",
    "print(f\"Average Change: {Average}\")\n",
    "print(f\"Greatest Increase in Profits: {Max_Date} {Max}\")\n",
    "print(f\"Greatest Decrease in Profits: {Max_Date} {Min}\")"
   ]
  }
 ],
 "metadata": {
  "kernelspec": {
   "display_name": "Python 3",
   "language": "python",
   "name": "python3"
  },
  "language_info": {
   "codemirror_mode": {
    "name": "ipython",
    "version": 3
   },
   "file_extension": ".py",
   "mimetype": "text/x-python",
   "name": "python",
   "nbconvert_exporter": "python",
   "pygments_lexer": "ipython3",
   "version": "3.8.5"
  }
 },
 "nbformat": 4,
 "nbformat_minor": 5
}
